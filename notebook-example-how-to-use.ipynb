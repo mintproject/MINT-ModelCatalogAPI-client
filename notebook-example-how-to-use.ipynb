{
 "cells": [
  {
   "cell_type": "markdown",
   "metadata": {},
   "source": [
    "## MINT Model Catalog API client\n",
    "\n",
    "This notebook shows how interact with the MINT Model catalog using the MINT Model Catalog API client.\n",
    "\n",
    "For more information about this client: https://github.com/mintproject/MINT-ModelCatalogAPI-client\n",
    "You can submit issues at https://github.com/mintproject/MINT-ModelCatalogIngestionAPI/issues"
   ]
  },
  {
   "cell_type": "markdown",
   "metadata": {},
   "source": [
    "### First steps\n",
    "\n",
    "You must import the required modules and obtain the default configuration to interact with the API"
   ]
  },
  {
   "cell_type": "code",
   "execution_count": null,
   "metadata": {},
   "outputs": [],
   "source": [
    "from __future__ import print_function\n",
    "import time\n",
    "import mint_client\n",
    "from mint_client.rest import ApiException\n",
    "from pprint import pprint\n",
    "\n",
    "configuration = mint_client.Configuration()\n",
    "configuration.host = \"https://dev.api.models.mint.isi.edu/v0.0.2\""
   ]
  },
  {
   "cell_type": "markdown",
   "metadata": {},
   "source": [
    "## Authentication\n",
    "### Why do you need authentication?\n",
    "\n",
    "You have your own workspace to store your models. So, you must authenticate to modify your models."
   ]
  },
  {
   "cell_type": "markdown",
   "metadata": {},
   "source": [
    "### Create a new user\n",
    "\n",
    "You can register a new user.\n",
    "\n",
    "**Please, replace the values of the variables: username and password**\n",
    "\n",
    "If the username exists, you will see the error: \"Please use a different username\""
   ]
  },
  {
   "cell_type": "code",
   "execution_count": null,
   "metadata": {},
   "outputs": [],
   "source": [
    "api_instance = mint_client.UserApi(mint_client.ApiClient(configuration))\n",
    "\n",
    "username = 'your_username' # str | The user name for login\n",
    "password = 'your_password' # str | The password for login in clear text\n",
    "user = mint_client.User(username=username, password=password) # User | Created user object\n",
    "\n",
    "try:\n",
    "    # Create user\n",
    "    api_instance.create_user(user)\n",
    "except ApiException as e:\n",
    "    print(\"Exception when calling UserApi->create_user: %s\\n\" % e)"
   ]
  },
  {
   "cell_type": "markdown",
   "metadata": {},
   "source": [
    "### Log in\n",
    "\n",
    "After, we must login in to the system. We can login using the method `api_instance.login_user(username, password)`. This method returns the access token and you must save the token in the configuration variable\n",
    "```\n",
    "    configuration.access_token = api_instance.login_user(username, password)\n",
    "```"
   ]
  },
  {
   "cell_type": "code",
   "execution_count": null,
   "metadata": {},
   "outputs": [],
   "source": [
    "try:\n",
    "    # Logs user into the system\n",
    "    configuration.access_token = api_instance.login_user(username, password)\n",
    "    print(\"Log in success! Token: %s\\n\" % configuration.access_token)\n",
    "except ApiException as e:\n",
    "    print(\"Exception when calling UserApi->login_user: %s\\n\" % e)    "
   ]
  },
  {
   "cell_type": "markdown",
   "metadata": {},
   "source": [
    "### Yay!\n",
    "Congrats! You can create new models!"
   ]
  },
  {
   "cell_type": "markdown",
   "metadata": {},
   "source": [
    "## Data Specification\n",
    "\n",
    "Class designed to describe a type of input or output used or produced by a model. For example, Topoflow has several inputs. One of them is a text file with precipitation values. The representation of this input is an instance of a dataset specification.\n",
    "\n",
    "https://mintproject.github.io/Mint-ModelCatalog-Ontology/modelCatalog/release/0.4.0/index-en.html#DatasetSpecification"
   ]
  },
  {
   "cell_type": "markdown",
   "metadata": {},
   "source": [
    "### Create a data specification\n",
    "\n",
    "Let's create a new DataSet Specification."
   ]
  },
  {
   "cell_type": "code",
   "execution_count": null,
   "metadata": {},
   "outputs": [],
   "source": [
    "api_instance = mint_client.DatasetspecificationApi(mint_client.ApiClient(configuration))\n",
    "dataset_specification = {\n",
    "  \"description\": \"Contains the yield elasticities to fertilizer use that are derived from Cycles output\",\n",
    "  \"hasDimensionality\": 0,\n",
    "  \"hasFormat\": \"csv\",\n",
    "  \"hasPresentation\": [\n",
    "    {\n",
    "      \"id\": \"https://w3id.org/mint/instance/econ_ybarN\",\n",
    "      \"type\": [\"https://w3id.org/mint/modelCatalog#VariablePresentation\"]\n",
    "    }\n",
    "  ],\n",
    "  \"id\": \"crop-yield\",\n",
    "  \"label\": \"crop-yield\"\n",
    "}\n",
    "try:\n",
    "    # Create a datasetspecification\n",
    "    api_instance.create_data_set(dataset_specification)\n",
    "    pprint(\"Created\")\n",
    "except ApiException as e:\n",
    "    pprint(\"Exception when calling DatasetspecificationApi->create_data_set: %s\\n\" % e)\n",
    "  "
   ]
  },
  {
   "cell_type": "markdown",
   "metadata": {},
   "source": [
    "### List all dataspecifications\n",
    "\n",
    "You can obtain your dataset specifications"
   ]
  },
  {
   "cell_type": "code",
   "execution_count": null,
   "metadata": {},
   "outputs": [],
   "source": [
    "try:\n",
    "    # List All datasetspecifications\n",
    "    api_response = api_instance.get_data_sets(username=username)\n",
    "    pprint(api_response)\n",
    "except ApiException as e:\n",
    "    pprint(\"Exception when calling DatasetspecificationApi->get_data_sets: %s\\n\" % e)  "
   ]
  },
  {
   "cell_type": "markdown",
   "metadata": {},
   "source": [
    "## Model\n",
    "A scientific model (from Hydrology, Agronomy, etc.) that represents a set of processes (infiltration, outflow, etc.) to be simulated.\n",
    "\n",
    "\n",
    "https://mintproject.github.io/Mint-ModelCatalog-Ontology/modelCatalog/release/0.4.0/index-en.html#Model"
   ]
  },
  {
   "cell_type": "markdown",
   "metadata": {},
   "source": [
    "### Create a model\n",
    "\n",
    "Let's create a new model. For example, the DSSAT model"
   ]
  },
  {
   "cell_type": "code",
   "execution_count": null,
   "metadata": {},
   "outputs": [],
   "source": [
    "api_instance = mint_client.ModelApi(mint_client.ApiClient(configuration))\n",
    "# create an instance of the API class\n",
    "model = {\n",
    "  \"description\": \"The Decision Support System for Agrotechnology Transfer (DSSAT) comprises dynamic crop growth simulation model for over 40 crops. The model simulates growth; development; and yield as a function of the soil-plant-atmosphere dynamics.\",\n",
    "  \"id\": \"DSSAT\",\n",
    "  \"label\": \"DSSAT\",\n",
    "}\n",
    "\n",
    "try:\n",
    "    # Create a model\n",
    "    api_instance.create_model(model)\n",
    "    pprint(\"Created\")\n",
    "except ApiException as e:\n",
    "    print(\"Exception when calling ModelApi->create_model: %s\\n\" % e)"
   ]
  },
  {
   "cell_type": "markdown",
   "metadata": {},
   "source": [
    "### Update a model\n",
    "\n",
    "Let's create a new model. For example, the DSSAT model"
   ]
  },
  {
   "cell_type": "code",
   "execution_count": null,
   "metadata": {},
   "outputs": [],
   "source": [
    "api_instance = mint_client.ModelApi(mint_client.ApiClient(configuration))\n",
    "# create an instance of the API class\n",
    "model = {\n",
    "  \"description\": \"The Decision Support System for Agrotechnology Transfer (DSSAT) comprises dynamic crop growth simulation model for over 40 crops. The model simulates growth; development; and yield as a function of the soil-plant-atmosphere dynamics.\",\n",
    "  \"hasDocumentation\": [\n",
    "    \"https://dssat.net\"\n",
    "  ],\n",
    "  \"hasModelCategory\": [\n",
    "    \"Agriculture\"\n",
    "  ],\n",
    "  \"hasSoftwareVersion\": [\n",
    "    {\n",
    "      \"id\": \"DSSAT_4.7\"\n",
    "    }\n",
    "  ],\n",
    "  \"id\": \"DSSAT\",\n",
    "  \"label\": \"DSSAT\",\n",
    "  \"type\": [\n",
    "    \"https://w3id.org/mint/modelCatalog#Model\",\n",
    "    \"https://w3id.org/mint/modelCatalog#TheoryBasedModel\"\n",
    "  ]\n",
    "}\n",
    "\n",
    "try:\n",
    "    # Create a model\n",
    "    api_instance.update_model(model[\"id\"], model)\n",
    "    pprint(\"Updated\")\n",
    "except ApiException as e:\n",
    "    print(\"Exception when calling ModelApi->create_model: %s\\n\" % e)"
   ]
  },
  {
   "cell_type": "markdown",
   "metadata": {},
   "source": [
    "### List your models\n",
    "\n",
    "You can list your models using the method `api_instance.get_models(username=username)`"
   ]
  },
  {
   "cell_type": "code",
   "execution_count": null,
   "metadata": {},
   "outputs": [],
   "source": [
    "api_instance = mint_client.ModelApi(mint_client.ApiClient(configuration))\n",
    "try:\n",
    "    # List All models\n",
    "    api_response = api_instance.get_models(username=username)\n",
    "    pprint(api_response)\n",
    "except ApiException as e:\n",
    "    print(\"Exception when calling ModelApi->get_models: %s\\n\" % e)"
   ]
  },
  {
   "cell_type": "markdown",
   "metadata": {},
   "source": [
    "### List our models\n",
    "\n",
    "Also, you can list the our models using the method without the paramater username `api_instance.get_models()`."
   ]
  },
  {
   "cell_type": "code",
   "execution_count": null,
   "metadata": {},
   "outputs": [],
   "source": [
    "api_instance = mint_client.ModelApi(mint_client.ApiClient(configuration))\n",
    "try:\n",
    "    # List All models\n",
    "    api_response = api_instance.get_models()\n",
    "    pprint(api_response)\n",
    "except ApiException as e:\n",
    "    print(\"Exception when calling ModelApi->get_models: %s\\n\" % e)"
   ]
  },
  {
   "cell_type": "markdown",
   "metadata": {},
   "source": [
    "### Get a model\n",
    "\n",
    "You can get a model by the name. For example, you can obtain the information of DSSAT model"
   ]
  },
  {
   "cell_type": "code",
   "execution_count": null,
   "metadata": {},
   "outputs": [],
   "source": [
    "name='DSSAT'\n",
    "try:\n",
    "    # Get a Model\n",
    "    api_response = api_instance.get_model(name, username=username)\n",
    "    pprint(api_response)\n",
    "except ApiException as e:\n",
    "    print(\"Exception when calling ModelApi->get_model: %s\\n\" % e)"
   ]
  },
  {
   "cell_type": "markdown",
   "metadata": {},
   "source": [
    "### Delete a model\n",
    "\n",
    "You can delete a model by the name. For example, you can delete the information of DSSAT model"
   ]
  },
  {
   "cell_type": "code",
   "execution_count": null,
   "metadata": {},
   "outputs": [],
   "source": [
    "name='DSSAT'\n",
    "    \n",
    "try:\n",
    "    # Get a Model\n",
    "    api_response = api_instance.delete_model(name)\n",
    "    pprint(\"Deleted\")\n",
    "except ApiException as e:\n",
    "    print(\"Exception when calling ModelApi->get_model: %s\\n\" % e)"
   ]
  },
  {
   "cell_type": "markdown",
   "metadata": {},
   "source": [
    "## ModelVersion\n",
    "\n",
    "The version of the Model\n",
    "https://mintproject.github.io/Mint-ModelCatalog-Ontology/modelCatalog/release/0.4.0/index-en.html#ModelVersion\n"
   ]
  },
  {
   "cell_type": "markdown",
   "metadata": {},
   "source": [
    "# Create a ModelVersion\n",
    "\n",
    "Let's create a ModelVersion . For example, a DSSAT simple configuration."
   ]
  },
  {
   "cell_type": "code",
   "execution_count": null,
   "metadata": {},
   "outputs": [],
   "source": [
    "api_instance = mint_client.ModelversionApi(mint_client.ApiClient(configuration))\n",
    "model_version = {\n",
    "  \"id\": \"DSSAT_4.7\",\n",
    "  \"label\": \"DSSAT v4.7\",\n",
    "}\n",
    "api_instance = mint_client.ModelversionApi(mint_client.ApiClient(configuration))\n",
    "\n",
    "try:\n",
    "    # Create a ModelVersion\n",
    "    api_instance.create_model_version(model_version)\n",
    "    pprint(\"Created\")\n",
    "except ApiException as e:\n",
    "    print(\"Exception when calling ModelversionApi->create_model_version: %s\\n\" % e)"
   ]
  },
  {
   "cell_type": "markdown",
   "metadata": {},
   "source": [
    "### Update a model version\n",
    "\n",
    "Let's update the information of model version."
   ]
  },
  {
   "cell_type": "code",
   "execution_count": null,
   "metadata": {},
   "outputs": [],
   "source": [
    "api_instance = mint_client.ModelversionApi(mint_client.ApiClient(configuration))\n",
    "model_version = {\n",
    "  \"hasConfiguration\": [\n",
    "    {\n",
    "      \"id\": \"DSSAT_cfg_simple\"\n",
    "    }\n",
    "  ],\n",
    "  \"hasVersionId\": \"4.7\",\n",
    "  \"id\": \"DSSAT_4.7\",\n",
    "  \"label\": \"DSSAT v4.7\",\n",
    "  \"type\": [\n",
    "    \"http://ontosoft.org/software#SoftwareVersion\"\n",
    "  ]\n",
    "}\n",
    "api_instance = mint_client.ModelversionApi(mint_client.ApiClient(configuration))\n",
    "\n",
    "try:\n",
    "    # Create a ModelVersion\n",
    "    api_instance.update_model_version(model_version[\"id\"], model_version)\n",
    "    pprint(\"Updated\")\n",
    "except ApiException as e:\n",
    "    print(\"Exception when calling ModelversionApi->create_model_version: %s\\n\" % e)"
   ]
  },
  {
   "cell_type": "markdown",
   "metadata": {},
   "source": [
    "### List \n",
    "\n",
    "You can list your model_versions using the method `api_instance.get_model_versions(username=username)`"
   ]
  },
  {
   "cell_type": "code",
   "execution_count": null,
   "metadata": {},
   "outputs": [],
   "source": [
    "try:\n",
    "    # List All ModelVersions\n",
    "    api_response = api_instance.get_model_versions(username=username)\n",
    "    pprint(api_response)\n",
    "except ApiException as e:\n",
    "    print(\"Exception when calling ModelversionApi->get_model_versions: %s\\n\" % e)\n",
    "    \n"
   ]
  },
  {
   "cell_type": "markdown",
   "metadata": {},
   "source": [
    "### Get model versions\n"
   ]
  },
  {
   "cell_type": "code",
   "execution_count": null,
   "metadata": {},
   "outputs": [],
   "source": [
    "name='DSSAT_4.7'\n",
    "try:\n",
    "    # Get a ModelVersion\n",
    "    api_response = api_instance.get_model_version(name, username=username)\n",
    "    pprint(api_response)\n",
    "except ApiException as e:\n",
    "    print(\"Exception when calling ModelversionApi->get_model_version: %s\\n\" % e)"
   ]
  },
  {
   "cell_type": "markdown",
   "metadata": {},
   "source": [
    "### Delete a model version\n",
    "\n",
    "You can delete a model by the name. For example, you can delete the information of DSSAT model"
   ]
  },
  {
   "cell_type": "code",
   "execution_count": null,
   "metadata": {},
   "outputs": [],
   "source": [
    "name='DSSAT_4.7'    \n",
    "try:\n",
    "    # Get a Model\n",
    "    api_response = api_instance.delete_model_version(name)\n",
    "    pprint(\"Deleted\")\n",
    "except ApiException as e:\n",
    "    print(\"Exception when calling ModelApi->get_model: %s\\n\" % e)"
   ]
  },
  {
   "cell_type": "markdown",
   "metadata": {},
   "source": [
    "## Parameter\n",
    "\n",
    "A parameter of the model.\n",
    "\n",
    "https://mintproject.github.io/Mint-ModelCatalog-Ontology/modelCatalog/release/0.4.0/index-en.html#Parameter\n",
    "\n"
   ]
  },
  {
   "cell_type": "markdown",
   "metadata": {},
   "source": [
    "### Create "
   ]
  },
  {
   "cell_type": "code",
   "execution_count": null,
   "metadata": {},
   "outputs": [],
   "source": [
    "parameter = {\n",
    "  \"description\": \"start date\",\n",
    "  \"hasDataType\": \"string\",\n",
    "  \"hasDefaultValue\": \"2017-01-01\",\n",
    "  \"id\": \"pihm_start-date\",\n",
    "  \"label\": \"pihm_start-date\",\n",
    "  \"type\": [\n",
    "    \"https://w3id.org/wings/export/MINT#StartDate\"\n",
    "  ]\n",
    "}\n",
    "\n",
    "\n",
    "# create an instance of the API class\n",
    "api_instance = mint_client.ParameterApi(mint_client.ApiClient(configuration))\n",
    "\n",
    "try:\n",
    "    # Create a Parameter\n",
    "    api_instance.create_parameter(parameter)\n",
    "    pprint(\"Created\")\n",
    "except ApiException as e:\n",
    "    print(\"Exception when calling ParameterApi->create_parameter: %s\\n\" % e)"
   ]
  },
  {
   "cell_type": "markdown",
   "metadata": {},
   "source": [
    "### List parameters\n",
    "\n",
    "You can list your parameters using the method `api_instance.get_parameters(username=username)` or you can list our parameters using the method `api_instance.get_parameters()` "
   ]
  },
  {
   "cell_type": "code",
   "execution_count": null,
   "metadata": {},
   "outputs": [],
   "source": [
    "try:\n",
    "    # List All Parameters\n",
    "    api_response = api_instance.get_parameters(username=username)\n",
    "    pprint(api_response)\n",
    "except ApiException as e:\n",
    "    print(\"Exception when calling ParameterApi->get_parameters: %s\\n\" % e)"
   ]
  },
  {
   "cell_type": "markdown",
   "metadata": {},
   "source": [
    "## Model Configuration\n",
    "\n",
    "A model may be configured in different ways depending on the data that is avaialble. For example, if topological information is available, a groundwater model may use it to produce a better estimation of the water budget of an aquifer. A model configuration represents a unique setting of inputs and outputs of a given model designed for a particular functionality.\n",
    "\n",
    "https://mintproject.github.io/Mint-ModelCatalog-Ontology/modelCatalog/release/0.4.0/index-en.html#ModelConfiguration|\n",
    "\n"
   ]
  },
  {
   "cell_type": "markdown",
   "metadata": {},
   "source": [
    "### Create a Model Configuration\n",
    "\n",
    "Lets create a new model configuration."
   ]
  },
  {
   "cell_type": "code",
   "execution_count": null,
   "metadata": {},
   "outputs": [],
   "source": [
    "model_configuration = {\n",
    "    \"description\": \"Aggregate crop supply response model for the country of South Sudan configuration\",\n",
    "    \"id\": \"economic\",\n",
    "    \"label\": \"Economic aggregate crop supply\"\n",
    "  }\n",
    "api_instance = mint_client.ModelconfigurationApi(mint_client.ApiClient(configuration))\n",
    "\n",
    "try:\n",
    "    # Create a model configuration\n",
    "    api_instance.create_model_configuration(model_configuration)\n",
    "    pprint(\"created\")\n",
    "except ApiException as e:\n",
    "    print(\"Exception when calling ModelconfigurationApi->create_model_configuration: %s\\n\" % e)"
   ]
  },
  {
   "cell_type": "markdown",
   "metadata": {},
   "source": [
    "### List model configurations\n",
    "\n",
    "\n",
    "You can list your model configurations using the method `api_instance.get_model_configurations(username=username)` or you can list our parameters using the method `api_instance.get_model_configurations()` "
   ]
  },
  {
   "cell_type": "code",
   "execution_count": null,
   "metadata": {},
   "outputs": [],
   "source": [
    "try:\n",
    "    # List modelconfiguration\n",
    "    api_response = api_instance.get_model_configurations(username=username)\n",
    "    pprint(api_response)\n",
    "except ApiException as e:\n",
    "    print(\"Exception when calling ModelconfigurationApi->get_model_configurations: %s\\n\" % e)\n"
   ]
  },
  {
   "cell_type": "markdown",
   "metadata": {},
   "source": [
    "### Update a Model Configuration\n",
    "\n",
    "Lets update the model configuration."
   ]
  },
  {
   "cell_type": "code",
   "execution_count": null,
   "metadata": {},
   "outputs": [],
   "source": [
    "name='economic'\n",
    "model_configuration = {\n",
    "    \"description\": \"Aggregate crop supply response model for the country of South Sudan configuration\",\n",
    "    \"hasCAG\": [\n",
    "      {\n",
    "        \"id\": \"economic_aggregate_crop_supply_CAG_variables\"\n",
    "      },\n",
    "      {\n",
    "        \"id\": \"economic_aggregate_crop_supply_CAG_process\"\n",
    "      }\n",
    "    ],\n",
    "    \"hasComponentLocation\": \"https://github.com/KnowledgeCaptureAndDiscovery/MINT-WorkflowDomain/raw/master/WINGSWorkflowComponents/economic/economic.zip\",\n",
    "    \"hasContainer\": [\n",
    "      {\n",
    "        \"id\": \"https://w3id.org/mint/instance/mintproject/economic:latest\"\n",
    "      }\n",
    "    ],\n",
    "    \"hasImplementationScriptLocation\": \"https://raw.githubusercontent.com/KnowledgeCaptureAndDiscovery/MINT-WorkflowDomain/master/WINGSWorkflowComponents/economic/run\",\n",
    "    \"hasInput\": [\n",
    "      {\n",
    "        \"id\": \"econ_yield\"\n",
    "      }\n",
    "    ],\n",
    "    \"hasOutput\": [\n",
    "      {\n",
    "        \"id\": \"econ_land_use\"\n",
    "      }\n",
    "    ],\n",
    "    \"hasParameter\": [\n",
    "      {\n",
    "        \"id\": \"pihm_start-date\"\n",
    "      },\n",
    "      {\n",
    "        \"id\": \"pihm_end-date\"\n",
    "      }\n",
    "    ],\n",
    "    \"hasProcess\": [\n",
    "      {\n",
    "        \"id\": \"crop_yield\"\n",
    "      },\n",
    "      {\n",
    "        \"id\": \"crop_supply\"\n",
    "      }\n",
    "    ],\n",
    "    \"hasTimeInterval\": [\n",
    "      {\n",
    "        \"id\": \"economic_aggregate_crop_supply_TI\"\n",
    "      }\n",
    "    ],\n",
    "    \"id\": \"economic\",\n",
    "    \"label\": \"Economic aggregate crop supply\"\n",
    "  }\n",
    "api_instance = mint_client.ModelconfigurationApi(mint_client.ApiClient(configuration))\n",
    "\n",
    "try:\n",
    "    # Create a model configuration\n",
    "    api_instance.update_model_configuration(name, model_configuration)\n",
    "    pprint(\"updated\")\n",
    "except ApiException as e:\n",
    "    print(\"Exception when calling ModelconfigurationApi->create_model_configuration: %s\\n\" % e)"
   ]
  },
  {
   "cell_type": "markdown",
   "metadata": {},
   "source": [
    "### Get model configuration\n",
    "\n",
    "You can get a model configuration by the name."
   ]
  },
  {
   "cell_type": "code",
   "execution_count": null,
   "metadata": {},
   "outputs": [],
   "source": [
    "name='economic'\n",
    "try:\n",
    "    # Get modelconfiguration\n",
    "    api_response = api_instance.get_model_configuration(name, username=username)\n",
    "    pprint(api_response)\n",
    "except ApiException as e:\n",
    "    print(\"Exception when calling ModelconfigurationApi->get_model_configuraton: %s\\n\" % e)"
   ]
  },
  {
   "cell_type": "markdown",
   "metadata": {},
   "source": [
    "### Obtain the parameters of a model configuration\n",
    "\n",
    "If you want more information about the parameters of the model configuration. You can obtain the information using the method `api_instance.get_parameters_by_modelconfiguration(name)``\n"
   ]
  },
  {
   "cell_type": "code",
   "execution_count": null,
   "metadata": {},
   "outputs": [],
   "source": [
    "# create an instance of the API class\n",
    "api_instance = mint_client.ModelconfigurationApi(mint_client.ApiClient(configuration))\n",
    "name = 'economic' # str | The name of the resource \n",
    "\n",
    "try:\n",
    "    # Get the parameters of a model configuration\n",
    "    api_response = api_instance.get_parameters_by_modelconfiguration(name, username=username)\n",
    "    pprint(api_response)\n",
    "except ApiException as e:\n",
    "    print(\"Exception when calling ModelconfigurationApi->get_parameters_by_modelconfiguration: %s\\n\" % e)"
   ]
  },
  {
   "cell_type": "markdown",
   "metadata": {},
   "source": [
    "### Obtain the inputs of a model configuration\n",
    "\n",
    "If you want more information about the inputs of the model configuration. You can obtain the information using the method `api_instance.get_inputs_by_modelconfiguration(name)``\n"
   ]
  },
  {
   "cell_type": "code",
   "execution_count": null,
   "metadata": {},
   "outputs": [],
   "source": [
    "# create an instance of the API class\n",
    "api_instance = mint_client.ModelconfigurationApi(mint_client.ApiClient(configuration))\n",
    "name = 'economic' # str | The name of the resource \n",
    "\n",
    "try:\n",
    "    # Get the inputs of a model configuration\n",
    "    api_response = api_instance.get_inputs_by_modelconfiguration(name,  username=username)\n",
    "    pprint(api_response)\n",
    "except ApiException as e:\n",
    "    print(\"Exception when calling ModelconfigurationApi->get_inputs_by_modelconfiguration: %s\\n\" % e)"
   ]
  },
  {
   "cell_type": "markdown",
   "metadata": {},
   "source": [
    "### Obtain the outpus of a model configuration\n",
    "\n",
    "If you want more information about the inputs of the model configuration. You can obtain the information using the method `api_instance.get_outputs_by_modelconfiguration(name)``\n"
   ]
  },
  {
   "cell_type": "code",
   "execution_count": null,
   "metadata": {},
   "outputs": [],
   "source": [
    "try:\n",
    "    # Get the outputs of a model configuration\n",
    "    api_response = api_instance.get_outputs_by_modelconfiguration(name, username=username)\n",
    "    pprint(api_response)\n",
    "except ApiException as e:\n",
    "    print(\"Exception when calling ModelconfigurationApi->get_outputs_by_modelconfiguration: %s\\n\" % e)"
   ]
  },
  {
   "cell_type": "markdown",
   "metadata": {},
   "source": [
    "### Delete a model configuration\n",
    "\n",
    "You can delete a configuration by the name."
   ]
  },
  {
   "cell_type": "code",
   "execution_count": null,
   "metadata": {},
   "outputs": [],
   "source": [
    "name='economic'\n",
    "    \n",
    "try:\n",
    "    # Get a Model\n",
    "    api_response = api_instance.delete_model_configuration(name)\n",
    "    pprint(\"Deleted\")\n",
    "except ApiException as e:\n",
    "    print(\"Exception when calling ModelApi->get_model: %s\\n\" % e)"
   ]
  },
  {
   "cell_type": "code",
   "execution_count": null,
   "metadata": {},
   "outputs": [],
   "source": []
  }
 ],
 "metadata": {
  "kernelspec": {
   "display_name": "Python 3",
   "language": "python",
   "name": "python3"
  },
  "language_info": {
   "codemirror_mode": {
    "name": "ipython",
    "version": 3
   },
   "file_extension": ".py",
   "mimetype": "text/x-python",
   "name": "python",
   "nbconvert_exporter": "python",
   "pygments_lexer": "ipython3",
   "version": "3.7.2"
  }
 },
 "nbformat": 4,
 "nbformat_minor": 2
}
